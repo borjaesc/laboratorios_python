{
 "cells": [
  {
   "cell_type": "markdown",
   "metadata": {},
   "source": [
    "\n",
    "<div style=\"text-align: center;\">\n",
    "  <img src=\"https://github.com/Hack-io-Data/Imagenes/blob/main/01-LogosHackio/logo_celeste@4x.png?raw=true\" alt=\"esquema\" />\n",
    "</div>\n"
   ]
  },
  {
   "cell_type": "markdown",
   "metadata": {},
   "source": [
    "# Laboratorio de Python: break(), pass(), continue()"
   ]
  },
  {
   "cell_type": "markdown",
   "metadata": {},
   "source": [
    "## Ejercicio 1: Validación de datos numéricos. \n",
    "\n",
    "Escribe un bucle que lea una lista de números y detenga la ejecución si encuentra un valor negativo. Muestra un mensaje indicando el número negativo encontrado.\n"
   ]
  },
  {
   "cell_type": "code",
   "execution_count": 1,
   "metadata": {},
   "outputs": [
    {
     "name": "stdout",
     "output_type": "stream",
     "text": [
      "Hemos encontrado un numero negativo: -7\n"
     ]
    }
   ],
   "source": [
    "#creamos una lista de prueba \n",
    "lista_numeros = [5,12,3,4,-7,89,11]\n",
    "\n",
    "#creamos un bucle para que recorra la lista de numeros \n",
    "for numero in lista_numeros:\n",
    "    if numero < 0 :\n",
    "        print(f\"Hemos encontrado un numero negativo: {numero}\")\n",
    "        break "
   ]
  },
  {
   "cell_type": "markdown",
   "metadata": {},
   "source": [
    "\n",
    "## Ejercicio 2: Filtrado de datos\n",
    "\n",
    "Escribe un bucle que imprima los números de una lista, pero que omita los números pares.\n"
   ]
  },
  {
   "cell_type": "code",
   "execution_count": 3,
   "metadata": {},
   "outputs": [
    {
     "name": "stdout",
     "output_type": "stream",
     "text": [
      "Numeros impares : 3\n",
      "Numeros impares : 65\n",
      "Numeros impares : 23\n",
      "Numeros impares : 67\n"
     ]
    }
   ],
   "source": [
    "#creamos una lista de prueba \n",
    "lista_numeros2 = [3,4,6,2,34,65,23,67,22]\n",
    "#creamos un bucle que recorra la lista de numeros \n",
    "for num in lista_numeros2:\n",
    "    if num % 2 == 0 :\n",
    "        continue \n",
    "    print (f\"Numeros impares : {num}\")"
   ]
  },
  {
   "cell_type": "markdown",
   "metadata": {},
   "source": [
    "## Ejercicio 3: Búsqueda de un valor\n",
    "\n",
    "Escribe un programa que busque un valor específico en una lista y detenga la búsqueda cuando lo encuentre. Si se encuentra, muestra un mensaje.\n"
   ]
  },
  {
   "cell_type": "code",
   "execution_count": 9,
   "metadata": {},
   "outputs": [
    {
     "name": "stdout",
     "output_type": "stream",
     "text": [
      "Hemos encontrado el valor buscado, es: perro\n"
     ]
    }
   ],
   "source": [
    "#creamos una lista de prueba con valores \n",
    "lista_valores = [\"perro\",\"gato\",\"oveja\",\"hamburguesa\"]\n",
    "#determinamos el valor que queremos encontrar \n",
    "valor_buscado = \"perro\"\n",
    "\n",
    "#creamos un bucle que recorra la lista de valores\n",
    "for valor in lista_valores:\n",
    "    if valor == \"perro\":\n",
    "        print(f\"Hemos encontrado el valor buscado, es: {valor_buscado}\")\n",
    "        break\n",
    "    else:\n",
    "        print(f\"El valor introducido no se encuentra en la lista\") "
   ]
  },
  {
   "cell_type": "markdown",
   "metadata": {},
   "source": [
    "## Ejercicio 4: Estructura de código incompleto\n",
    "\n",
    "Define una función que aún no tenga lógica implementada, pero que se pueda ejecutar sin errores utilizando `pass`."
   ]
  },
  {
   "cell_type": "code",
   "execution_count": null,
   "metadata": {},
   "outputs": [
    {
     "name": "stdout",
     "output_type": "stream",
     "text": [
      "La funcion se ejecuto correctamente sin hacer nada\n"
     ]
    }
   ],
   "source": [
    "#definimos una funcion sin logica \n",
    "def funcion():\n",
    "    pass\n",
    "#llamamos a la funcion para comprobar que se ejecute y que muestre el mensaje de que se ejecuta correctamente.\n",
    "funcion()\n",
    "print(\"La funcion se ejecuto correctamente sin hacer nada\")\n"
   ]
  },
  {
   "cell_type": "markdown",
   "metadata": {},
   "source": [
    "## Ejercicio 5: Validación condicional\n",
    "\n",
    "Escribe un bucle que verifique una lista de nombres. Si encuentra un nombre vacío (cadena vacía), salta esa iteración y continúa con los demás nombres.\n"
   ]
  },
  {
   "cell_type": "code",
   "execution_count": null,
   "metadata": {},
   "outputs": [
    {
     "name": "stdout",
     "output_type": "stream",
     "text": [
      "Nombre:mario\n",
      "Nombre:julia\n",
      "Nombre:roberto\n",
      "Nombre:alejandro\n"
     ]
    }
   ],
   "source": [
    "#creamos una lista con nombres de prueba para recorrerla\n",
    "lista_nombres = [\"mario\",\"julia\",\"roberto\",\" \",\"alejandro\",\" \"]\n",
    "#introducimos bucle for para recorrer la lista de nombres\n",
    "for nombre in lista_nombres:\n",
    "    if nombre == \" \":\n",
    "        continue\n",
    "    print(f\"Nombre:{nombre}\")"
   ]
  },
  {
   "cell_type": "markdown",
   "metadata": {},
   "source": [
    "## Ejercicio 6: Búsqueda de claves en un diccionario\n",
    "\n",
    "Escribe un programa que recorra un diccionario y detenga la búsqueda si encuentra una clave específica pasada por el usuario.\n"
   ]
  },
  {
   "cell_type": "code",
   "execution_count": 26,
   "metadata": {},
   "outputs": [
    {
     "name": "stdout",
     "output_type": "stream",
     "text": [
      "Clave encontrada : nombre ----> Julian\n"
     ]
    }
   ],
   "source": [
    "#creamos un diccionario de prueba con diferentes claves\n",
    "diccionario = {\n",
    "    \"nombre\":\"Julian\",\n",
    "    \"edad\":54,\n",
    "    \"puesto\": \"analista\"\n",
    "\n",
    "}\n",
    "#creamos un funcion para que el usuario introduzca una clave que quiera buscar\n",
    "clave_buscada = input(\"Introduce una clave que quieras buscar: nombre, edad, puesto\")\n",
    "#introducimos bucle for para recorrer el diccionario de prueba \n",
    "for i in diccionario:\n",
    "    if i == clave_buscada:\n",
    "        print(f\"Clave encontrada : {i} ----> {diccionario[i]}\")\n",
    "        break\n",
    "    else:\n",
    "        print(f\"La clave {clave_buscada} no se encuentra en el diccionario\")"
   ]
  },
  {
   "cell_type": "markdown",
   "metadata": {},
   "source": [
    "## Ejercicio 7: Bucle con múltiples excepciones\n",
    "\n",
    "Escribe un bucle que procese una lista de operaciones matemáticas, omitiendo las operaciones que intenten dividir por cero.\n"
   ]
  },
  {
   "cell_type": "code",
   "execution_count": null,
   "metadata": {},
   "outputs": [
    {
     "name": "stdout",
     "output_type": "stream",
     "text": [
      "10/2=5.0\n",
      "Operacion no valida: no se puede dividir por cero en 7/0\n",
      "8-3=5\n",
      "4+1=5\n"
     ]
    }
   ],
   "source": [
    "#creamos una lista de operaciones de prueba \n",
    "lista_operaciones = [\"10/2\",\"7/0\",\"8-3\",\"4+1\"]\n",
    "\n",
    "#creamos un bucle que recorra las operaciones de la lista\n",
    "for operacion in lista_operaciones:\n",
    "    try:\n",
    "        #utilizamos la funcion eval para que de cara operacion matematica no evalue si la expresion, en este caso una operacion matematica, es correcta \n",
    "        resultado = eval(operacion)\n",
    "        print(f\"{operacion}={resultado}\")\n",
    "    #introducimos la excepcion de ZDE para especificar que no podemos dividir entre cero \n",
    "    except ZeroDivisionError:\n",
    "        print(f\"Operacion no valida: no se puede dividir por cero en {operacion}\")\n"
   ]
  },
  {
   "cell_type": "markdown",
   "metadata": {},
   "source": [
    "## Ejercicio 8: Búsqueda en una lista anidada\n",
    "\n",
    "Escribe un programa que recorra una lista de listas y detenga la búsqueda cuando encuentre un valor mayor a 50.\n"
   ]
  },
  {
   "cell_type": "code",
   "execution_count": 30,
   "metadata": {},
   "outputs": [
    {
     "name": "stdout",
     "output_type": "stream",
     "text": [
      "Se ha encontrado un valor mayor a 50 : 60\n"
     ]
    }
   ],
   "source": [
    "#creamos una lista con listas de ejemplo \n",
    "lista_listas = [\n",
    "    [10,30,48],\n",
    "    [34,49,60],\n",
    "    [56,67,89],\n",
    "]\n",
    "#creamos un bucle for para recorrer la lista de listas\n",
    "for lista in lista_listas:\n",
    "    for valor_de_lista in lista:\n",
    "        if valor_de_lista > 50:\n",
    "            print(f\"Se ha encontrado un valor mayor a 50 : {valor_de_lista}\")\n",
    "            break\n",
    "    else:\n",
    "        continue\n",
    "    break"
   ]
  },
  {
   "cell_type": "markdown",
   "metadata": {},
   "source": [
    "## Ejercicio 9: Evaluación de series temporales\n",
    "\n",
    "Escribe un programa que recorra una lista de datos de series temporales y se detenga si encuentra un valor atípico (mayor a 100).\n"
   ]
  },
  {
   "cell_type": "code",
   "execution_count": 31,
   "metadata": {},
   "outputs": [
    {
     "name": "stdout",
     "output_type": "stream",
     "text": [
      "Se ha encontrado un valor atípico mayor a 100 : 120\n"
     ]
    }
   ],
   "source": [
    "# creamos una lista de datos de series temporales \n",
    "series_temporales = [15,45,67,120,65,45,87,105,87]\n",
    "\n",
    "#creamos un bucle for para recorrer la lista\n",
    "for x in series_temporales:\n",
    "    if x > 100:\n",
    "        print(f\"Se ha encontrado un valor atípico mayor a 100 : {x}\")\n",
    "        break"
   ]
  },
  {
   "cell_type": "markdown",
   "metadata": {},
   "source": [
    "## Ejercicio 10: Iteración con valores faltantes\n",
    "\n",
    "Crea un bucle que recorra una lista de datos de ventas y salte los valores faltantes representados por `None`."
   ]
  },
  {
   "cell_type": "code",
   "execution_count": 33,
   "metadata": {},
   "outputs": [
    {
     "name": "stdout",
     "output_type": "stream",
     "text": [
      "Venta registrada:345\n",
      "Venta registrada:56\n",
      "Venta registrada:5677\n",
      "Venta registrada:32\n",
      "Venta registrada:456\n"
     ]
    }
   ],
   "source": [
    "#creamos una lista de ventas con diferentes valores y nones\n",
    "ventas = [345,56,None,5677,None,32,456]\n",
    "\n",
    "#creamos un bucle for para recorrer la lista de ventas \n",
    "for venta in ventas:\n",
    "    if venta == None:\n",
    "        continue\n",
    "    print(f\"Venta registrada:{venta}\")"
   ]
  },
  {
   "cell_type": "markdown",
   "metadata": {},
   "source": [
    "## Ejercicio 11: Control de flujo en bucles anidados\n",
    "\n",
    "Escribe un bucle que recorra la matriz dada y se detenga si se encuentra un número negativo, mostrando su posición.\n",
    "\n"
   ]
  },
  {
   "cell_type": "code",
   "execution_count": 34,
   "metadata": {},
   "outputs": [
    {
     "name": "stdout",
     "output_type": "stream",
     "text": [
      "Se ha encontrado un numero negativo -5 en la matriz\n"
     ]
    }
   ],
   "source": [
    "#creamos una matriz de ejemplo para trabajar con ella\n",
    "matriz = [\n",
    "    [10,3,48],\n",
    "    [34,-5,62],\n",
    "    [5,66,8],\n",
    "]\n",
    "\n",
    "#creamos un bucle for para recorrer la matriz \n",
    "# i es el indice de la fila\n",
    "for i,fila in enumerate(matriz):\n",
    "    #j es el indice de la columna\n",
    "    for j, valor in enumerate(fila):\n",
    "        if valor < 0:\n",
    "            print(f\"Se ha encontrado un numero negativo {valor} en la matriz\")\n",
    "    else:\n",
    "        continue\n",
    "    break"
   ]
  }
 ],
 "metadata": {
  "kernelspec": {
   "display_name": "Python 3",
   "language": "python",
   "name": "python3"
  },
  "language_info": {
   "codemirror_mode": {
    "name": "ipython",
    "version": 3
   },
   "file_extension": ".py",
   "mimetype": "text/x-python",
   "name": "python",
   "nbconvert_exporter": "python",
   "pygments_lexer": "ipython3",
   "version": "3.9.6"
  }
 },
 "nbformat": 4,
 "nbformat_minor": 2
}
