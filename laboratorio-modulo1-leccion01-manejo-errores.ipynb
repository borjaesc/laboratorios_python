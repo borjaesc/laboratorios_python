{
 "cells": [
  {
   "cell_type": "markdown",
   "metadata": {},
   "source": [
    "\n",
    "<div style=\"text-align: center;\">\n",
    "  <img src=\"https://github.com/Hack-io-Data/Imagenes/blob/main/01-LogosHackio/logo_celeste@4x.png?raw=true\" alt=\"esquema\" />\n",
    "</div>\n"
   ]
  },
  {
   "cell_type": "markdown",
   "metadata": {},
   "source": [
    "# Laboratorio de Python: manejo de errores."
   ]
  },
  {
   "cell_type": "markdown",
   "metadata": {},
   "source": [
    "## Ejercicio 1: División con manejo de excepciones\n",
    "\n",
    "Escribe un programa que pida al usuario dos números e intente dividirlos. Si el usuario ingresa un valor no numérico o intenta dividir por cero, maneja esas excepciones de manera adecuada. Asegúrate de mostrar un mensaje indicando si la división fue exitosa o no.\n"
   ]
  },
  {
   "cell_type": "code",
   "execution_count": 22,
   "metadata": {},
   "outputs": [],
   "source": [
    "# Creamos la función con la que vamos a dividir dos numeros:\n",
    "\n",
    "def dividir_dos_numeros():\n",
    "    #introducimos nuestro primer try como prueba de código\n",
    "    try:\n",
    "\n",
    "        numero1 = float(input(\"Dime un numero:\"))\n",
    "        numero2 = float(input(\"Dime otro numero :\"))\n",
    "\n",
    "    # Intentamos la operación pedida anteriormente\n",
    "        resultado = numero1/numero2\n",
    "\n",
    "#Proponemos primera excepción, en caso de que el usuario introduzca un valor incorrecto.\n",
    "    except ValueError:\n",
    "#imprimimos mensaje de error para informar al usario de que el valor introducido no es valido.\n",
    "        print(\"El valor introducido no es correcto\")\n",
    "#Proponemos segunda excepcion, en caso de que el usuario introduzca 0 como posible segundo numero a dividir.\n",
    "    except ZeroDivisionError:\n",
    "        print(\"No es posible dividir un numero entre cero\")\n",
    "#imprimimos mensaje en caso de que intente dividir el valor entre cero para informarle de que no es posible.\n",
    "    else:\n",
    "        print(f\"El resultado de la division es :{resultado}, la operacion ha sido correcta.\")\n",
    "#imprimos mensaje comunicando al usario que la operacion ha funcionado correctamente.\n",
    "    finally:\n",
    "        print(\"El programa ha funcionado correctamente\")\n",
    "\n",
    "\n",
    "\n"
   ]
  },
  {
   "cell_type": "code",
   "execution_count": null,
   "metadata": {},
   "outputs": [
    {
     "name": "stdout",
     "output_type": "stream",
     "text": [
      "El resultado de la division es :9.0, la operacion ha sido correcta.\n",
      "El programa ha funcionado correctamente\n"
     ]
    }
   ],
   "source": [
    "dividir_dos_numeros()"
   ]
  },
  {
   "cell_type": "markdown",
   "metadata": {},
   "source": [
    "## Ejercicio 2: Acceso a archivos\n",
    "\n",
    "Escribe un programa que intente abrir un archivo llamado \"datos.txt\". Si el archivo no existe, captura la excepción y muestra un mensaje de error. Asegúrate de cerrar el archivo correctamente en la sección `finally`.\n"
   ]
  },
  {
   "cell_type": "code",
   "execution_count": 30,
   "metadata": {},
   "outputs": [],
   "source": [
    "def abrir_un_archivo():\n",
    "    \n",
    "    try:\n",
    "       \n",
    "# Abrir el archivo en modo lectura\n",
    "        with open('archivo.txt', 'r') as archivo:\n",
    "            contenido = archivo.read()\n",
    "        print(contenido)\n",
    "\n",
    "# creamos una excepción en la que si el archivo no existe, mostramos el mensaje de que el archivo no se ha encontrado.\n",
    "    except FileNotFoundError:\n",
    "        print(\"El archivo no se ha encontrado\")\n",
    "\n",
    "\n",
    "    finally:\n",
    "        print(\"El archivo se ha cerrado correctamente\")"
   ]
  },
  {
   "cell_type": "code",
   "execution_count": 31,
   "metadata": {},
   "outputs": [
    {
     "name": "stdout",
     "output_type": "stream",
     "text": [
      "El archivo no se ha encontrado\n",
      "El archivo se ha cerrado correctamente\n"
     ]
    }
   ],
   "source": [
    "abrir_un_archivo()"
   ]
  },
  {
   "cell_type": "markdown",
   "metadata": {},
   "source": [
    "## Ejercicio 3: Conversión de cadenas a enteros\n",
    "\n",
    "Escribe un programa que pida una lista de números separados por comas y convierta cada valor a un número entero. Maneja las excepciones para valores que no sean convertibles y asegúrate de informar si la conversión fue exitosa o no.\n"
   ]
  },
  {
   "cell_type": "code",
   "execution_count": 32,
   "metadata": {},
   "outputs": [
    {
     "name": "stdout",
     "output_type": "stream",
     "text": [
      "1 se ha convertido a 1.\n",
      "Esta es la lista de numeros convertidos : [1]\n",
      "2 se ha convertido a 2.\n",
      "Esta es la lista de numeros convertidos : [1, 2]\n",
      "3 se ha convertido a 3.\n",
      "Esta es la lista de numeros convertidos : [1, 2, 3]\n",
      "4 se ha convertido a 4.\n",
      "Esta es la lista de numeros convertidos : [1, 2, 3, 4]\n",
      "El numero introducido no es valido.\n",
      "Esta es la lista de numeros convertidos : [1, 2, 3, 4]\n"
     ]
    }
   ],
   "source": [
    "# creamos una variable en la que el usuario tiene que introducir una lista de numeros separados por comas.\n",
    "lista_numeros = input(\"Introduce una lista de numeros separados por comas\")\n",
    "#hacemos que la lista de numeros dada por el usuario se divida en una lista de valores. \n",
    "numeros = lista_numeros.split(\",\")\n",
    "#creamos una lista vacia en la que se volcaron los numeros que queremos convertir a enteros separados por comas. \n",
    "lista_vacia_numeros = []\n",
    "\n",
    "#procesamos cada valor\n",
    "for numero in numeros:\n",
    "    try:\n",
    "    #convertimos cada numero introducido por el usuario a entero    \n",
    "        num = int(numero.strip())\n",
    "        lista_vacia_numeros.append(num)\n",
    "        print(f\"{numero} se ha convertido a {num}.\")\n",
    "       #introducimos excepcion en el caso de que se introduzca un valor no valido e informamos al usuario.\n",
    "    except ValueError :\n",
    "        print(\"El numero introducido no es valido.\")\n",
    "\n",
    "    finally:\n",
    "        print(f\"Esta es la lista de numeros convertidos : {lista_vacia_numeros}\")\n"
   ]
  },
  {
   "cell_type": "markdown",
   "metadata": {},
   "source": [
    "#### Ejercicio 4: Cálculo del promedio con manejo de excepciones\n",
    "\n",
    "Escribe una función que reciba una lista de números y calcule su promedio. Si la lista está vacía, lanza una excepción personalizada y maneja el error adecuadamente.\n"
   ]
  },
  {
   "cell_type": "code",
   "execution_count": null,
   "metadata": {},
   "outputs": [
    {
     "name": "stdout",
     "output_type": "stream",
     "text": [
      "El promedio de la lista [10, 24, 46, 27] es : 26.75\n"
     ]
    }
   ],
   "source": [
    "\n",
    "#creamos una funcion en la que hayaremos el promedio de una lista de numeros\n",
    "def calcular_promedio(numeros):\n",
    "    if not numeros:\n",
    "        return \"La lista esta vacía, no se puede calcular el promedio\"\n",
    "    return sum(numeros)/len(numeros)\n",
    "\n",
    "# creamos un ejemplo de lista con numeros para ver si funciona el programa\n",
    "lista_de_numeros = [10,24,46,27]\n",
    "#creamos una variable en la que resulte el promedio de la lista anterior\n",
    "resultado = calcular_promedio(lista_de_numeros)\n",
    "\n",
    "#comprobamos si la lista es un error o el promedio de la lista dada\n",
    "if isinstance(resultado,str):\n",
    "    print(resultado)\n",
    "else:\n",
    "    print(f\"El promedio de la lista {lista_de_numeros} es : {resultado}\")\n",
    "\n",
    "\n"
   ]
  },
  {
   "cell_type": "markdown",
   "metadata": {},
   "source": [
    "#### Ejercicio 5: Conversión segura de números\n",
    "\n",
    "Escribe un programa que convierta una cadena a número flotante e intente realizar una operación aritmética. Si la conversión falla, maneja la excepción y continúa con el flujo normal."
   ]
  },
  {
   "cell_type": "code",
   "execution_count": 38,
   "metadata": {},
   "outputs": [
    {
     "name": "stdout",
     "output_type": "stream",
     "text": [
      "El resultado de multiplicar tu numero es : 112.0\n",
      "El programa continua ejecutándose\n"
     ]
    }
   ],
   "source": [
    "#creamos una funcion para pedirle al usuario que ingrese un numero con el que realizaremos una operación.\n",
    "lista_num = input(\"Introduce un numero para realiazar una operación: \")\n",
    "\n",
    "try:\n",
    "    #convertimos el numero introducido a float para poder operar con él.\n",
    "    valor = float(lista_num)\n",
    "    #proponemos una operación matemática.\n",
    "    resultado = valor*2\n",
    "    print(f\"El resultado de multiplicar tu numero es : {resultado}\")\n",
    "#incluimos excepcion donde informamos al usuario de que no hemos podido convertir el valor introducido.\n",
    "except ValueError:\n",
    "    print(f\"No hemos podido convertir {lista_num} a un numero entero\")\n",
    "\n",
    "finally:\n",
    "    print(\"El programa continua ejecutándose\")"
   ]
  },
  {
   "cell_type": "markdown",
   "metadata": {},
   "source": [
    "#### Ejercicio 6: Acceso a claves en diccionarios\n",
    "\n",
    "Escribe un programa que intente acceder a una clave específica en un diccionario. Si la clave no existe, maneja la excepción `KeyError` y muestra un mensaje indicando el problema."
   ]
  },
  {
   "cell_type": "code",
   "execution_count": 43,
   "metadata": {},
   "outputs": [
    {
     "name": "stdout",
     "output_type": "stream",
     "text": [
      "El valor de la clave edad es: 30\n"
     ]
    }
   ],
   "source": [
    "#creamos un ejemplo de diccionario para trabajar con él \n",
    "diccionario_prueba = {\n",
    "    \"nombre\":\"Borja\",\n",
    "    \"edad\": 30,\n",
    "    \"residencia\":\"Majadahonda\"\n",
    "    }\n",
    "# creamos la funcion para pedir al usuario que introduzca una clave a buscar en el diccionario \n",
    "buscar_clave = input(\"Introduce una clave que quieras buscar en el diccionario: nombre,edad,residencia: \")\n",
    "\n",
    "#intentamos acceder a la clave.\n",
    "try:\n",
    "    valor = diccionario_prueba[buscar_clave]\n",
    "    print(f\"El valor de la clave {buscar_clave} es: {valor}\")\n",
    "#introducimos excepcion en la que espeficamos al usuario si existe o no la clave introducida.\n",
    "except KeyError:\n",
    "    print(f\"La clave introducida no existe en el diccionario\")"
   ]
  },
  {
   "cell_type": "markdown",
   "metadata": {},
   "source": [
    "\n",
    "#### Ejercicio 7: Verificación de entradas de usuario\n",
    "\n",
    "Escribe un programa que pida al usuario que introduzca su edad. Si el usuario ingresa un valor no numérico o un valor fuera del rango esperado (por ejemplo, menor que 0 o mayor que 120), maneja las excepciones adecuadamente."
   ]
  },
  {
   "cell_type": "code",
   "execution_count": null,
   "metadata": {},
   "outputs": [],
   "source": [
    "# creamos una funcion para pedir y verificar la edad del usuario\n",
    "def verificacion_edad():\n",
    "    #creamos un bucle para comprobar si el valor introducido es correcto\n",
    "    while True:\n",
    "        # hacemos la primera prueba para ver si funciona\n",
    "        try:\n",
    "            edad= input(\"Introduce tu edad\")\n",
    "            edad=int(edad)\n",
    "            #introducimos la primera condicion para comprimir la edad\n",
    "            if edad < 0 or edad > 120:\n",
    "                print(\"Error: la edad debe estar entre 0 y 120, intentalo de nuevo\")\n",
    "            else:\n",
    "                return edad \n",
    "        #introducimos la excepcion en donde especificamos al usuario que el valor introducido no es valido para el programa.\n",
    "        except ValueError:\n",
    "            print(\"Error: Introduce un valor numérico valido \")\n",
    "\n",
    "            "
   ]
  },
  {
   "cell_type": "code",
   "execution_count": 57,
   "metadata": {},
   "outputs": [
    {
     "name": "stdout",
     "output_type": "stream",
     "text": [
      "Error: Introduce un valor numérico valido \n",
      "Error: Introduce un valor numérico valido \n"
     ]
    },
    {
     "data": {
      "text/plain": [
       "3"
      ]
     },
     "execution_count": 57,
     "metadata": {},
     "output_type": "execute_result"
    }
   ],
   "source": [
    "verificacion_edad()"
   ]
  },
  {
   "cell_type": "markdown",
   "metadata": {},
   "source": [
    "#### Ejercicio 8: Extracción de valores de una lista\n",
    "\n",
    "Escribe una función que intente acceder a un índice específico en una lista. Si el índice está fuera del rango, maneja la excepción `IndexError` y muestra un mensaje adecuado.\n"
   ]
  },
  {
   "cell_type": "code",
   "execution_count": 62,
   "metadata": {},
   "outputs": [],
   "source": [
    "#creamos una lista de prueba.\n",
    "lista_prueba2 = [10,\"perro\",56,\"brocoli\"]\n",
    "\n",
    "#creamos la funcion para intentar acceder a un indice de nuestra lista de prueba.\n",
    "def acceso_indice():\n",
    "    try:\n",
    "        indice= int(input(\"Introduce el indice al que quieres acceder: \"))\n",
    "        valor2 = lista_prueba2[indice]\n",
    "        print(f\"El valor en el indice {indice} es : {valor2}\")\n",
    "    except IndexError:\n",
    "        print(f\"Error: el indice introducido no esta en la lista\")\n",
    "    except ValueError:\n",
    "        print(f\"Error: no has ingresado un numero valido.\")"
   ]
  },
  {
   "cell_type": "code",
   "execution_count": 59,
   "metadata": {},
   "outputs": [
    {
     "name": "stdout",
     "output_type": "stream",
     "text": [
      "El valor en el indice 3 es : brocoli\n"
     ]
    }
   ],
   "source": [
    "acceso_indice()"
   ]
  },
  {
   "cell_type": "code",
   "execution_count": 60,
   "metadata": {},
   "outputs": [
    {
     "name": "stdout",
     "output_type": "stream",
     "text": [
      "Error: el indice introducido no esta en la lista\n"
     ]
    }
   ],
   "source": [
    "acceso_indice()"
   ]
  },
  {
   "cell_type": "code",
   "execution_count": 63,
   "metadata": {},
   "outputs": [
    {
     "name": "stdout",
     "output_type": "stream",
     "text": [
      "Error: no has ingresado un numero valido.\n"
     ]
    }
   ],
   "source": [
    "acceso_indice()"
   ]
  }
 ],
 "metadata": {
  "kernelspec": {
   "display_name": "Python 3",
   "language": "python",
   "name": "python3"
  },
  "language_info": {
   "codemirror_mode": {
    "name": "ipython",
    "version": 3
   },
   "file_extension": ".py",
   "mimetype": "text/x-python",
   "name": "python",
   "nbconvert_exporter": "python",
   "pygments_lexer": "ipython3",
   "version": "3.9.6"
  }
 },
 "nbformat": 4,
 "nbformat_minor": 2
}
